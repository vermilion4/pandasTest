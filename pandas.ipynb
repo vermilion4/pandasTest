{
  "nbformat": 4,
  "nbformat_minor": 0,
  "metadata": {
    "colab": {
      "name": "pandas.ipynb",
      "provenance": [],
      "collapsed_sections": [],
      "authorship_tag": "ABX9TyNHMUD+n+mzQum/NNtk3WOg",
      "include_colab_link": true
    },
    "kernelspec": {
      "name": "python3",
      "display_name": "Python 3"
    }
  },
  "cells": [
    {
      "cell_type": "markdown",
      "metadata": {
        "id": "view-in-github",
        "colab_type": "text"
      },
      "source": [
        "<a href=\"https://colab.research.google.com/github/vermilion4/pandasTest/blob/master/pandas.ipynb\" target=\"_parent\"><img src=\"https://colab.research.google.com/assets/colab-badge.svg\" alt=\"Open In Colab\"/></a>"
      ]
    },
    {
      "cell_type": "code",
      "metadata": {
        "id": "W5RxcKYTlD37",
        "colab_type": "code",
        "colab": {
          "base_uri": "https://localhost:8080/",
          "height": 445
        },
        "outputId": "e4d57188-fbcf-45b7-ab02-4c5e350524e0"
      },
      "source": [
        "import pandas as pd\n",
        "import numpy as np\n",
        "import seaborn as sns\n",
        "import matplotlib.pyplot as plt\n",
        " \n",
        "days = pd.Series(['Monday','Tuesday','Wednesday'])\n",
        "print(days)\n",
        " \n",
        "days_list = np.array(['Monday','Tuesday','Wednesday'])\n",
        "numpy_days = pd.Series(days_list)\n",
        "print(numpy_days)\n",
        " \n",
        "#strings as index\n",
        "days_index = pd.Series(['Monday','Tuesday','Wednesday'],index=['a','b','c'])\n",
        "print(days_index)\n",
        "print('first day: ',days[0])\n",
        "print(days[1:])\n",
        "print(days_index['c'])\n",
        " \n",
        "#dictionary\n",
        "days1 = pd.Series({'a':'Monday','b':'Tuesday','c':'Wednesday'})\n",
        "print(days1)\n",
        "print(type(days1))\n",
        " \n",
        "#dataframe\n",
        "print(pd.DataFrame())"
      ],
      "execution_count": null,
      "outputs": [
        {
          "output_type": "stream",
          "text": [
            "0       Monday\n",
            "1      Tuesday\n",
            "2    Wednesday\n",
            "dtype: object\n",
            "0       Monday\n",
            "1      Tuesday\n",
            "2    Wednesday\n",
            "dtype: object\n",
            "a       Monday\n",
            "b      Tuesday\n",
            "c    Wednesday\n",
            "dtype: object\n",
            "first day:  Monday\n",
            "1      Tuesday\n",
            "2    Wednesday\n",
            "dtype: object\n",
            "Wednesday\n",
            "a       Monday\n",
            "b      Tuesday\n",
            "c    Wednesday\n",
            "dtype: object\n",
            "<class 'pandas.core.series.Series'>\n",
            "Empty DataFrame\n",
            "Columns: []\n",
            "Index: []\n"
          ],
          "name": "stdout"
        }
      ]
    },
    {
      "cell_type": "code",
      "metadata": {
        "id": "7BHOD2jGpnIE",
        "colab_type": "code",
        "colab": {
          "base_uri": "https://localhost:8080/",
          "height": 591
        },
        "outputId": "88da6745-df5d-4472-9bad-f1df45d74aaf"
      },
      "source": [
        "import pandas as pd\n",
        " \n",
        "#dictionary\n",
        "df_dict = {'Country' : ['Kenya','South Africa','Brazil','USA'],\n",
        "           'Capital' : ['Nairobi','Cape Town','Rio','Washington'],\n",
        "           'Population' : [10000, 8500, 35000, 12000],\n",
        "           'Age' : [60, 70, 80, 75]}\n",
        " \n",
        "df = pd.DataFrame(df_dict,index=[2,4,6,8])\n",
        "print('df: \\n',df)\n",
        "#print(df.iloc[3])\n",
        "#print(df.loc[6])\n",
        "#print(df['Capital'])\n",
        "#print(df.at[6,'Country'])\n",
        "#print(df.iat[2,1])\n",
        " \n",
        "print(df['Population'].sum())\n",
        "print(df.mean())\n",
        " \n",
        "#list\n",
        "df_list = [['Kenya','Nairobi',10000,60],\n",
        "           ['South Africa','Cape Town',8500,70],\n",
        "           ['Brazil','Rio',35000,80],\n",
        "           ['USA','Washington',12000,75]]\n",
        " \n",
        "df1 = pd.DataFrame(df_list,columns=['Country','Capital','Population','Age'],index=[2,4,6,8])           \n",
        "print('df1: \\n',df1)\n",
        " \n",
        "df.describe()"
      ],
      "execution_count": null,
      "outputs": [
        {
          "output_type": "stream",
          "text": [
            "df: \n",
            "         Country     Capital  Population  Age\n",
            "2         Kenya     Nairobi       10000   60\n",
            "4  South Africa   Cape Town        8500   70\n",
            "6        Brazil         Rio       35000   80\n",
            "8           USA  Washington       12000   75\n",
            "65500\n",
            "Population    16375.00\n",
            "Age              71.25\n",
            "dtype: float64\n",
            "df1: \n",
            "         Country     Capital  Population  Age\n",
            "2         Kenya     Nairobi       10000   60\n",
            "4  South Africa   Cape Town        8500   70\n",
            "6        Brazil         Rio       35000   80\n",
            "8           USA  Washington       12000   75\n"
          ],
          "name": "stdout"
        },
        {
          "output_type": "execute_result",
          "data": {
            "text/html": [
              "<div>\n",
              "<style scoped>\n",
              "    .dataframe tbody tr th:only-of-type {\n",
              "        vertical-align: middle;\n",
              "    }\n",
              "\n",
              "    .dataframe tbody tr th {\n",
              "        vertical-align: top;\n",
              "    }\n",
              "\n",
              "    .dataframe thead th {\n",
              "        text-align: right;\n",
              "    }\n",
              "</style>\n",
              "<table border=\"1\" class=\"dataframe\">\n",
              "  <thead>\n",
              "    <tr style=\"text-align: right;\">\n",
              "      <th></th>\n",
              "      <th>Population</th>\n",
              "      <th>Age</th>\n",
              "    </tr>\n",
              "  </thead>\n",
              "  <tbody>\n",
              "    <tr>\n",
              "      <th>count</th>\n",
              "      <td>4.000000</td>\n",
              "      <td>4.000000</td>\n",
              "    </tr>\n",
              "    <tr>\n",
              "      <th>mean</th>\n",
              "      <td>16375.000000</td>\n",
              "      <td>71.250000</td>\n",
              "    </tr>\n",
              "    <tr>\n",
              "      <th>std</th>\n",
              "      <td>12499.166639</td>\n",
              "      <td>8.539126</td>\n",
              "    </tr>\n",
              "    <tr>\n",
              "      <th>min</th>\n",
              "      <td>8500.000000</td>\n",
              "      <td>60.000000</td>\n",
              "    </tr>\n",
              "    <tr>\n",
              "      <th>25%</th>\n",
              "      <td>9625.000000</td>\n",
              "      <td>67.500000</td>\n",
              "    </tr>\n",
              "    <tr>\n",
              "      <th>50%</th>\n",
              "      <td>11000.000000</td>\n",
              "      <td>72.500000</td>\n",
              "    </tr>\n",
              "    <tr>\n",
              "      <th>75%</th>\n",
              "      <td>17750.000000</td>\n",
              "      <td>76.250000</td>\n",
              "    </tr>\n",
              "    <tr>\n",
              "      <th>max</th>\n",
              "      <td>35000.000000</td>\n",
              "      <td>80.000000</td>\n",
              "    </tr>\n",
              "  </tbody>\n",
              "</table>\n",
              "</div>"
            ],
            "text/plain": [
              "         Population        Age\n",
              "count      4.000000   4.000000\n",
              "mean   16375.000000  71.250000\n",
              "std    12499.166639   8.539126\n",
              "min     8500.000000  60.000000\n",
              "25%     9625.000000  67.500000\n",
              "50%    11000.000000  72.500000\n",
              "75%    17750.000000  76.250000\n",
              "max    35000.000000  80.000000"
            ]
          },
          "metadata": {
            "tags": []
          },
          "execution_count": 3
        }
      ]
    },
    {
      "cell_type": "code",
      "metadata": {
        "id": "xaT79P5hyi-t",
        "colab_type": "code",
        "colab": {}
      },
      "source": [
        "import pandas as pd\n",
        "import numpy as np\n",
        "\n",
        "df_dict2 = {'Name':['James','Yemen','Caro',np.nan],\n",
        "            'Profession':['Researcher','Artist','Doctor','Writer'],\n",
        "            'Experience':[12, np.nan, 10, 8],\n",
        "            'Height':[np.nan, 175, 180, 150]}\n",
        "new_df = pd.DataFrame(df_dict2)\n",
        "print(new_df)\n",
        "\n",
        "#check for cells with missing values\n",
        "new_df.isnull()\n",
        "#remove rows with missing values\n",
        "#new_df.dropna()\n",
        "#new_df.fillna(0)\n",
        "new_df.notnull()"
      ],
      "execution_count": null,
      "outputs": []
    },
    {
      "cell_type": "code",
      "metadata": {
        "id": "BDVRiX-f5SSb",
        "colab_type": "code",
        "colab": {}
      },
      "source": [
        "import pandas as pd\n",
        "\n",
        "csv_df = pd.read_csv('/content/sample_data/mnist_test.csv')\n",
        "csv_df.to_csv('/content/sample_data/mnist_test.csv',index=False)\n",
        "\n",
        "csv_df.head()"
      ],
      "execution_count": null,
      "outputs": []
    },
    {
      "cell_type": "code",
      "metadata": {
        "id": "5UWtedPs-JrG",
        "colab_type": "code",
        "colab": {
          "base_uri": "https://localhost:8080/",
          "height": 35
        },
        "outputId": "83f2c427-cbbe-49c4-f7c5-f9ed56898e30"
      },
      "source": [
        "import pandas as pd\n",
        " \n",
        "url = 'https://raw.githubusercontent.com/WalePhenomenon/climate_change/master/fuel_ferc1.csv'\n",
        "fuel_data = pd.read_csv(url,error_bad_lines=False)\n",
        " \n",
        "fuel_data.describe(include='all')\n",
        " \n",
        "fuel_data.isnull().sum()\n",
        " \n",
        "fuel_data.groupby('fuel_unit')['fuel_unit'].count()\n",
        "fuel_data[['fuel_unit']] = fuel_data[['fuel_unit']].fillna(value='mcf')\n",
        " \n",
        "fuel_data.isnull().sum()\n",
        " \n",
        "fuel_data.groupby('report_year').first()\n",
        " \n",
        "fuel_data.groupby('fuel_type_code_pudl').first()\n",
        " \n",
        "fuel_df1 = fuel_data.iloc[0:19000].reset_index(drop=True)\n",
        "fuel_df2 = fuel_data.iloc[19000:].reset_index(drop=True)\n",
        " \n",
        "assert len(fuel_data) == (len(fuel_df1)+len(fuel_df2))\n",
        " \n",
        "pd.merge(fuel_df1,fuel_df2,how = \"inner\")\n",
        "pd.merge(fuel_df1,fuel_df2,how='outer')\n",
        "pd.merge(fuel_df1,fuel_df2,how='left')\n",
        " \n",
        "data_concat = {'country':['USA','Brazil','France'],\n",
        "               'percent':[50, 85, 60]}\n",
        "data_conc = pd.DataFrame(data_concat)\n",
        " \n",
        "pd.concat([fuel_data,data_conc]).reset_index(drop=True)         \n",
        "fuel_data.duplicated().any()"
      ],
      "execution_count": null,
      "outputs": [
        {
          "output_type": "execute_result",
          "data": {
            "text/plain": [
              "False"
            ]
          },
          "metadata": {
            "tags": []
          },
          "execution_count": 103
        }
      ]
    },
    {
      "cell_type": "code",
      "metadata": {
        "id": "Q62i0LFxfIhn",
        "colab_type": "code",
        "colab": {
          "base_uri": "https://localhost:8080/",
          "height": 227
        },
        "outputId": "657b5860-c7aa-423a-9f59-bdbe39cf3351"
      },
      "source": [
        " \n",
        "plt.figure(figsize=(7,4))\n",
        "plt.xticks(rotation=90)\n",
        "fuel_units = pd.DataFrame({'unit':['BBL', 'GAL', 'GRAMSU', 'KGU', 'MCF','MMBTU',\n",
        "'MWDTH', 'MWHTH','TON'],\n",
        "'num':[7998, 84, 464, 110, 11354, 180, 95, 100, 8958]})\n",
        "sns.barplot(data=fuel_units, x='unit', y='num')\n",
        "plt.xlabel('fuel_Unit')\n",
        "plt.show()"
      ],
      "execution_count": null,
      "outputs": [
        {
          "output_type": "display_data",
          "data": {
            "image/png": "[encoded data removed]",
            "text/plain": [
              "<Figure size 504x288 with 1 Axes>"
            ]
          },
          "metadata": {
            "tags": [],
            "needs_background": "light"
          }
        }
      ]
    }
  ]
}